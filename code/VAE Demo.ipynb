{
 "cells": [
  {
   "cell_type": "code",
   "execution_count": 105,
   "metadata": {},
   "outputs": [],
   "source": [
    "import os\n",
    "import torch\n",
    "import torch.nn as nn\n",
    "import torch.nn.functional as F\n",
    "import torchvision\n",
    "import numpy as np\n",
    "import pandas as pd\n",
    "from torchvision import transforms\n",
    "from torchvision.utils import save_image\n",
    "\n",
    "\n",
    "# Device configuration\n",
    "device = torch.device('cuda' if torch.cuda.is_available() else 'cpu')\n",
    "\n",
    "# Create a directory if not exists\n",
    "sample_dir = 'data/vae'\n",
    "if not os.path.exists(sample_dir):\n",
    "    os.makedirs(sample_dir)"
   ]
  },
  {
   "cell_type": "code",
   "execution_count": 106,
   "metadata": {},
   "outputs": [],
   "source": [
    "# Hyper-parameters\n",
    "image_size = 784\n",
    "h_dim = 400\n",
    "z_dim = 20\n",
    "num_epochs = 15\n",
    "batch_size = 128\n",
    "learning_rate = 1e-3\n",
    "\n",
    "# MNIST dataset\n",
    "dataset = torchvision.datasets.MNIST(\n",
    "    root='../../data',\n",
    "    train=True,\n",
    "    transform=transforms.ToTensor(),\n",
    "    download=True\n",
    ")\n",
    "\n",
    "# Data loader\n",
    "data_loader = torch.utils.data.DataLoader(\n",
    "    dataset=dataset,\n",
    "    batch_size=batch_size, \n",
    "    shuffle=True\n",
    ")"
   ]
  },
  {
   "cell_type": "code",
   "execution_count": 107,
   "metadata": {},
   "outputs": [],
   "source": [
    "# VAE model\n",
    "class VAE(nn.Module):\n",
    "    def __init__(self, image_size=784, h_dim=400, z_dim=20):\n",
    "        super(VAE, self).__init__()\n",
    "        self.fc1 = nn.Linear(image_size, h_dim)\n",
    "        self.fc2 = nn.Linear(h_dim, z_dim)\n",
    "        self.fc3 = nn.Linear(h_dim, z_dim)\n",
    "        self.fc4 = nn.Linear(z_dim, h_dim)\n",
    "        self.fc5 = nn.Linear(h_dim, image_size)\n",
    "        \n",
    "    def encode(self, x):\n",
    "        h = F.relu(self.fc1(x))\n",
    "        return self.fc2(h), self.fc3(h)\n",
    "    \n",
    "    def reparameterize(self, mu, log_var):\n",
    "        std = torch.exp(log_var/2)\n",
    "        eps = torch.randn_like(std)\n",
    "        return mu + eps * std\n",
    "\n",
    "    def decode(self, z):\n",
    "        h = F.relu(self.fc4(z))\n",
    "        return torch.sigmoid(self.fc5(h))\n",
    "    \n",
    "    def forward(self, x):\n",
    "        mu, log_var = self.encode(x)\n",
    "        z = self.reparameterize(mu, log_var)\n",
    "        x_reconst = self.decode(z)\n",
    "        return x_reconst, mu, log_var"
   ]
  },
  {
   "cell_type": "code",
   "execution_count": 109,
   "metadata": {},
   "outputs": [
    {
     "name": "stdout",
     "output_type": "stream",
     "text": [
      "Epoch[1/15], Reconstruction Loss: 10694.8896484375, KL Div: 1973.07177734375\n",
      "Epoch[2/15], Reconstruction Loss: 9448.3955078125, KL Div: 2221.28125\n",
      "Epoch[3/15], Reconstruction Loss: 8144.0048828125, KL Div: 2297.97900390625\n",
      "Epoch[4/15], Reconstruction Loss: 8486.9521484375, KL Div: 2283.920654296875\n",
      "Epoch[5/15], Reconstruction Loss: 8251.640625, KL Div: 2412.15673828125\n",
      "Epoch[6/15], Reconstruction Loss: 8103.5390625, KL Div: 2371.3935546875\n",
      "Epoch[7/15], Reconstruction Loss: 7980.45361328125, KL Div: 2430.5537109375\n",
      "Epoch[8/15], Reconstruction Loss: 8062.298828125, KL Div: 2432.346435546875\n",
      "Epoch[9/15], Reconstruction Loss: 7852.603515625, KL Div: 2373.0703125\n",
      "Epoch[10/15], Reconstruction Loss: 7743.85107421875, KL Div: 2507.126220703125\n",
      "Epoch[11/15], Reconstruction Loss: 7822.986328125, KL Div: 2408.00927734375\n",
      "Epoch[12/15], Reconstruction Loss: 7638.9970703125, KL Div: 2473.6162109375\n",
      "Epoch[13/15], Reconstruction Loss: 7936.580078125, KL Div: 2498.7265625\n",
      "Epoch[14/15], Reconstruction Loss: 7530.38916015625, KL Div: 2452.65283203125\n",
      "Epoch[15/15], Reconstruction Loss: 7578.9013671875, KL Div: 2479.708251953125\n"
     ]
    }
   ],
   "source": [
    "model = VAE().to(device)\n",
    "optimizer = torch.optim.Adam(model.parameters(), lr=learning_rate)\n",
    "\n",
    "# Start training\n",
    "for epoch in range(num_epochs):\n",
    "    for i, (x, _) in enumerate(data_loader):\n",
    "        # Forward pass\n",
    "        x = x.to(device).view(-1, image_size)\n",
    "        x_reconst, mu, log_var = model(x)\n",
    "        \n",
    "        # Compute reconstruction loss and kl divergence\n",
    "        reconst_loss = F.binary_cross_entropy(x_reconst, x, reduction=\"sum\")\n",
    "        kl_div = - 0.5 * torch.sum(1 + log_var - mu.pow(2) - log_var.exp())\n",
    "        \n",
    "        # Backprop and optimize\n",
    "        loss = reconst_loss + kl_div\n",
    "        optimizer.zero_grad()\n",
    "        loss.backward()\n",
    "        optimizer.step()\n",
    "        \n",
    "    print(f\"Epoch[{epoch + 1}/{num_epochs}], Reconstruction Loss: {reconst_loss.item()}, KL Div: {kl_div.item()}\")"
   ]
  },
  {
   "cell_type": "code",
   "execution_count": 119,
   "metadata": {},
   "outputs": [],
   "source": [
    "x, _ = next(iter(data_loader))\n",
    "x0 = x.view(-1, image_size)\n",
    "mu, log_var = model.encode(x0)\n",
    "n_samples = 10\n",
    "\n",
    "z_samples, x_samples = [], []\n",
    "for i in range(n_samples):\n",
    "    z = model.reparameterize(mu, log_var)\n",
    "    z_df = pd.DataFrame(z.detach().numpy())\n",
    "    z_df[\"sample\"] = i\n",
    "    z_samples.append(z_df)\n",
    "    \n",
    "pd.concat(z_samples).to_csv(f\"{sample_dir}/z_samples.csv\", index=False)\n",
    "pd.DataFrame(x0.detach().numpy()).to_csv(f\"{sample_dir}/x0.csv\", index=False)"
   ]
  },
  {
   "cell_type": "code",
   "execution_count": 122,
   "metadata": {},
   "outputs": [],
   "source": [
    "unwrap = lambda z_i: z_i.view(28, -1).detach().numpy()\n",
    "\n",
    "n_interp = 15\n",
    "z_interp = torch.zeros(n_interp, z_dim)\n",
    "for i in range(n_interp):\n",
    "    z_interp[i, :] = (i / n_interp) * z[0] + (1 - i / n_interp) * z[1]\n",
    "    \n",
    "x_hat = model.decode(z_interp)\n",
    "\n",
    "pd.DataFrame(x_hat.detach().numpy()).to_csv(f\"{sample_dir}/x_hat.csv\", index=False)\n",
    "pd.DataFrame(z_interp.detach().numpy()).to_csv(f\"{sample_dir}/z_interp.csv\", index=False)"
   ]
  },
  {
   "cell_type": "code",
   "execution_count": null,
   "metadata": {},
   "outputs": [],
   "source": []
  }
 ],
 "metadata": {
  "kernelspec": {
   "display_name": "Python 3",
   "language": "python",
   "name": "python3"
  },
  "language_info": {
   "codemirror_mode": {
    "name": "ipython",
    "version": 3
   },
   "file_extension": ".py",
   "mimetype": "text/x-python",
   "name": "python",
   "nbconvert_exporter": "python",
   "pygments_lexer": "ipython3",
   "version": "3.8.5"
  }
 },
 "nbformat": 4,
 "nbformat_minor": 4
}
