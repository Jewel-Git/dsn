{
 "cells": [
  {
   "cell_type": "code",
   "execution_count": 19,
   "metadata": {},
   "outputs": [],
   "source": [
    "import pandas as pd\n",
    "import torch\n",
    "import numpy as np"
   ]
  },
  {
   "cell_type": "markdown",
   "metadata": {},
   "source": [
    "1. Read in csv just generated\n",
    "2. Build data loader out of dataset\n",
    "3. write function to train an epoch on this dataset\n",
    "4. write a function to train for 100 epochs on this dataset\n",
    "5. apply svcca on this\n",
    "6. visualize the svcca scores"
   ]
  },
  {
   "cell_type": "code",
   "execution_count": 97,
   "metadata": {},
   "outputs": [],
   "source": [
    "output_name = \"model_one\"\n",
    "\n",
    "data = pd.read_csv(\"result.csv\")\n",
    "x = torch.tensor(data['X1'].values).float()\n",
    "y = torch.tensor(data.drop('X1', axis = 1).values).float()\n",
    "train_ix = np.random.choice(len(x), int(0.8 * len(x)))"
   ]
  },
  {
   "cell_type": "code",
   "execution_count": 98,
   "metadata": {},
   "outputs": [],
   "source": [
    "def initialize_model(n_inputs=1, n_outputs=5, H = 200):\n",
    "    return torch.nn.Sequential(\n",
    "        torch.nn.Linear(n_inputs, H),\n",
    "        torch.nn.ReLU(),\n",
    "        torch.nn.Linear(H, H),\n",
    "        torch.nn.ReLU(),\n",
    "        torch.nn.Linear(H, H),\n",
    "        torch.nn.ReLU(),\n",
    "        torch.nn.Linear(H, H),\n",
    "        torch.nn.ReLU(),\n",
    "        torch.nn.Linear(H, n_outputs),\n",
    "    )\n",
    "\n",
    "def write_activations(model, x, output_name, ix=[1, 3, 5, 7]):\n",
    "    h = activations(model, x, [1, 3, 5, 7])\n",
    "    for i in range(len(h)):\n",
    "        pd.DataFrame(h[i]).to_csv(f\"activations_{output_name}_{i}.csv\", index = False)\n",
    "        \n",
    "def activations(model, x, ix):\n",
    "    hs = []\n",
    "    for i in ix:\n",
    "        x_ = x[:, np.newaxis]\n",
    "        h_i = model[:i](x_).detach().numpy()\n",
    "        hs.append(np.concatenate((x_, h_i), axis=1))\n",
    "\n",
    "    return hs"
   ]
  },
  {
   "cell_type": "code",
   "execution_count": 111,
   "metadata": {},
   "outputs": [],
   "source": [
    "loss_fn = torch.nn.MSELoss()\n",
    "model = initialize_model()\n",
    "optimizer = torch.optim.Adam(model.parameters(), lr=1e-4)\n",
    "losses = {\"train\": [], \"test\": []}\n",
    "y_hats = []\n",
    "\n",
    "for epoch in range(1200):\n",
    "    # get loss\n",
    "    optimizer.zero_grad()\n",
    "    y_hat = model(x[train_ix, np.newaxis])\n",
    "    loss = loss_fn(y[train_ix], y_hat)\n",
    "    \n",
    "    # update weights\n",
    "    loss.backward()\n",
    "    optimizer.step()\n",
    "    \n",
    "    if  epoch % 50 == 0:\n",
    "        torch.save(model.state_dict(), f\"{output_name}_{epoch}.pt\")\n",
    "\n",
    "    \n",
    "    # validation\n",
    "    with torch.no_grad():\n",
    "        y_hat = model(x[-train_ix, np.newaxis])\n",
    "        loss_ = loss_fn(y[-train_ix], y_hat)\n",
    "        losses[\"train\"].append(loss.detach().numpy())\n",
    "        losses[\"test\"].append(loss_.detach().numpy())\n",
    "        y_hats.append(model(x[:, np.newaxis]).detach().numpy())\n",
    "\n",
    "torch.save(model.state_dict(), f\"{output_name}_final.pt\")"
   ]
  },
  {
   "cell_type": "code",
   "execution_count": 114,
   "metadata": {},
   "outputs": [
    {
     "data": {
      "text/plain": [
       "[<matplotlib.lines.Line2D at 0x1231249d0>]"
      ]
     },
     "execution_count": 114,
     "metadata": {},
     "output_type": "execute_result"
    },
    {
     "data": {
      "image/png": "[encoded data removed]",
      "text/plain": [
       "<Figure size 432x288 with 1 Axes>"
      ]
     },
     "metadata": {
      "needs_background": "light"
     },
     "output_type": "display_data"
    }
   ],
   "source": [
    "import matplotlib.pyplot as plt\n",
    "plt.plot(losses[\"train\"])\n",
    "plt.plot(losses[\"test\"])"
   ]
  },
  {
   "cell_type": "code",
   "execution_count": 116,
   "metadata": {},
   "outputs": [],
   "source": [
    "# saving some data just to make the gif\n",
    "\n",
    "y_hats = np.stack(y_hats)\n",
    "y_hat_df = []\n",
    "for i in range(1200):\n",
    "    for j in range(5):\n",
    "        for k in range(201):\n",
    "            y_hat_df.append({\n",
    "                \"k\": k,\n",
    "                \"epoch\": i,\n",
    "                \"x\": x[k].item(),\n",
    "                \"f\": j,\n",
    "                \"y\": y[k, j].item(),\n",
    "                \"y_hat\": y_hats[i, k, j]\n",
    "            })\n",
    "        \n",
    "y_hat_df = pd.DataFrame(y_hat_df)\n",
    "y_hat_df.to_csv(f\"{output_name}_y_hats.csv\")"
   ]
  },
  {
   "cell_type": "code",
   "execution_count": 120,
   "metadata": {},
   "outputs": [
    {
     "data": {
      "text/plain": [
       "<All keys matched successfully>"
      ]
     },
     "execution_count": 120,
     "metadata": {},
     "output_type": "execute_result"
    }
   ],
   "source": [
    "state_dict = torch.load(f\"{output_name}_final.pt\", map_location=\"cpu\")\n",
    "model = initialize_model()\n",
    "model.load_state_dict(state_dict)"
   ]
  },
  {
   "cell_type": "code",
   "execution_count": 121,
   "metadata": {},
   "outputs": [],
   "source": [
    "write_activations(model, x, output_name)\n",
    "\n",
    "for i in range(0, 1200, 50):\n",
    "    state_dict = torch.load(f\"{output_name}_{i}.pt\", map_location=\"cpu\")\n",
    "    model = initialize_model()\n",
    "    model.load_state_dict(state_dict)\n",
    "    write_activations(model, x, f\"{output_name}_{i}\")"
   ]
  },
  {
   "cell_type": "code",
   "execution_count": null,
   "metadata": {},
   "outputs": [],
   "source": []
  }
 ],
 "metadata": {
  "kernelspec": {
   "display_name": "Python 3",
   "language": "python",
   "name": "python3"
  },
  "language_info": {
   "codemirror_mode": {
    "name": "ipython",
    "version": 3
   },
   "file_extension": ".py",
   "mimetype": "text/x-python",
   "name": "python",
   "nbconvert_exporter": "python",
   "pygments_lexer": "ipython3",
   "version": "3.8.5"
  }
 },
 "nbformat": 4,
 "nbformat_minor": 4
}
